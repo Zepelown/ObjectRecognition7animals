{
  "nbformat": 4,
  "nbformat_minor": 0,
  "metadata": {
    "colab": {
      "private_outputs": true,
      "provenance": [],
      "mount_file_id": "1gKtmUQMKlcfTvondAB-ljJ3k7GHLl4N_",
      "authorship_tag": "ABX9TyO+jE+sg9Y0kPw9hWAdhHR5",
      "include_colab_link": true
    },
    "kernelspec": {
      "name": "python3",
      "display_name": "Python 3"
    },
    "language_info": {
      "name": "python"
    }
  },
  "cells": [
    {
      "cell_type": "markdown",
      "metadata": {
        "id": "view-in-github",
        "colab_type": "text"
      },
      "source": [
        "<a href=\"https://colab.research.google.com/github/Zepelown/ObjectRecognition7animals/blob/main/Untitled2.ipynb\" target=\"_parent\"><img src=\"https://colab.research.google.com/assets/colab-badge.svg\" alt=\"Open In Colab\"/></a>"
      ]
    },
    {
      "cell_type": "code",
      "source": [
        "import cv2\n",
        "import numpy as np\n",
        "\n",
        "# Load YOLO weights and configuration\n",
        "net = cv2.dnn.readNet(\"/content/drive/MyDrive/yolov3.weights\", \"/content/drive/MyDrive/yolov3.cfg\")\n",
        "\n",
        "# Load COCO names\n",
        "classes = []\n",
        "with open(\"/content/drive/MyDrive/coco.names\", \"r\") as f:\n",
        "    classes = [line.strip() for line in f.readlines()]\n",
        "\n",
        "# Get output layer names\n",
        "layer_names = net.getLayerNames()\n",
        "output_layers_indices = [net.getUnconnectedOutLayers()[0] - 1, net.getUnconnectedOutLayers()[1] - 1, net.getUnconnectedOutLayers()[2] - 1]\n",
        "output_layers = [layer_names[i[0]] for i in enumerate(output_layers_indices)]\n",
        "\n",
        "# Random colors for visualization\n",
        "colors = np.random.uniform(0, 255, size=(len(classes), 3))\n",
        "\n",
        "# Continue with your code...\n",
        "\n",
        "img = cv2.imread('/content/A01_P50_C009_C_211014_0029_20S_000002.378.jpg')\n",
        "img = cv2.resize(img, None, fx=0.4, fy=0.4)\n",
        "height, width, channels = img.shape\n",
        "\n",
        "blob = cv2.dnn.blobFromImage(img, 0.00392, (416, 416), (0, 0, 0), True, crop=False)\n",
        "net.setInput(blob)\n",
        "outs = net.forward(output_layers)"
      ],
      "metadata": {
        "id": "rGJsW3v5AynQ"
      },
      "execution_count": null,
      "outputs": []
    },
    {
      "cell_type": "code",
      "source": [
        "# Showing informations on the screen\n",
        "class_ids = []\n",
        "confidences = []\n",
        "boxes = []\n",
        "for out in outs:\n",
        "    for detection in out:\n",
        "        scores = detection[5:]\n",
        "        class_id = np.argmax(scores)\n",
        "        confidence = scores[class_id]\n",
        "        if confidence > 0.5:\n",
        "            # Object detected\n",
        "            center_x = int(detection[0] * width)\n",
        "            center_y = int(detection[1] * height)\n",
        "            w = int(detection[2] * width)\n",
        "            h = int(detection[3] * height)\n",
        "\n",
        "            # Rectangle coordinates\n",
        "            x = int(center_x - w / 2)\n",
        "            y = int(center_y - h / 2)\n",
        "\n",
        "            boxes.append([x, y, w, h])\n",
        "            confidences.append(float(confidence))\n",
        "            class_ids.append(class_id)"
      ],
      "metadata": {
        "id": "DZYCBZ5gtSxA"
      },
      "execution_count": null,
      "outputs": []
    }
  ]
}